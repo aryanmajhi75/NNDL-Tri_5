{
  "cells": [
    {
      "cell_type": "markdown",
      "source": [
        "# Import Necessary Libraries"
      ],
      "metadata": {
        "id": "h0DnoHJvNCHa"
      }
    },
    {
      "cell_type": "code",
      "execution_count": null,
      "metadata": {
        "id": "LKvxHJWvGsWM"
      },
      "outputs": [],
      "source": [
        "import numpy as np\n",
        "import matplotlib.pyplot as plt\n",
        "from tensorflow.keras.datasets import mnist\n",
        "from tensorflow.keras.utils import to_categorical"
      ]
    },
    {
      "cell_type": "markdown",
      "source": [
        "# Load and Preprocess the MNIST Dataset"
      ],
      "metadata": {
        "id": "fgOjJjLlNAnT"
      }
    },
    {
      "cell_type": "code",
      "execution_count": null,
      "metadata": {
        "id": "AL8dkvFcH37Y"
      },
      "outputs": [],
      "source": [
        "# Load MNIST dataset\n",
        "(train_images, train_labels), (test_images, test_labels) = mnist.load_data()\n",
        "\n",
        "# Normalize images to the range [0, 1]\n",
        "train_images = train_images.astype('float32') / 255\n",
        "test_images = test_images.astype('float32') / 255\n",
        "\n",
        "# Flatten images to 1D arrays\n",
        "train_images = train_images.reshape((60000, 784))\n",
        "test_images = test_images.reshape((10000, 784))\n",
        "\n",
        "# One-hot encode labels\n",
        "train_labels = to_categorical(train_labels)\n",
        "test_labels = to_categorical(test_labels)\n"
      ]
    },
    {
      "cell_type": "markdown",
      "source": [
        "# Define the Neural Network Model"
      ],
      "metadata": {
        "id": "Mkr_qxmLNHi7"
      }
    },
    {
      "cell_type": "code",
      "execution_count": null,
      "metadata": {
        "id": "IZA1tZexH6U8"
      },
      "outputs": [],
      "source": [
        "class NeuralNetwork:\n",
        "    def __init__(self, input_size, hidden_size, output_size):\n",
        "        # Initialize weights\n",
        "        self.W1 = np.random.randn(input_size, hidden_size) * 0.01\n",
        "        self.b1 = np.zeros((1, hidden_size))\n",
        "        self.W2 = np.random.randn(hidden_size, output_size) * 0.01\n",
        "        self.b2 = np.zeros((1, output_size))\n",
        "\n",
        "    def forward(self, X):\n",
        "        # Forward pass\n",
        "        self.Z1 = np.dot(X, self.W1) + self.b1\n",
        "        self.A1 = self.relu(self.Z1)\n",
        "        self.Z2 = np.dot(self.A1, self.W2) + self.b2\n",
        "        self.A2 = self.softmax(self.Z2)\n",
        "        return self.A2\n",
        "\n",
        "    def relu(self, Z):\n",
        "        # ReLU activation function\n",
        "        return np.maximum(0, Z)\n",
        "\n",
        "    def softmax(self, Z):\n",
        "        # Softmax activation function\n",
        "        expZ = np.exp(Z - np.max(Z, axis=1, keepdims=True))\n",
        "        return expZ / np.sum(expZ, axis=1, keepdims=True)\n",
        "\n",
        "    #Backward Propogation\n",
        "    def backward(self, X, Y, learning_rate):\n",
        "        # Backward pass\n",
        "        m = X.shape[0]\n",
        "        dZ2 = self.A2 - Y\n",
        "        dW2 = (1/m) * np.dot(self.A1.T, dZ2)\n",
        "        db2 = (1/m) * np.sum(dZ2, axis=0, keepdims=True)\n",
        "        dA1 = np.dot(dZ2, self.W2.T)\n",
        "        dZ1 = dA1 * (self.Z1 > 0)\n",
        "        dW1 = (1/m) * np.dot(X.T, dZ1)\n",
        "        db1 = (1/m) * np.sum(dZ1, axis=0, keepdims=True)\n",
        "\n",
        "        # Update weights\n",
        "        self.W1 -= learning_rate * dW1\n",
        "        self.b1 -= learning_rate * db1\n",
        "        self.W2 -= learning_rate * dW2\n",
        "        self.b2 -= learning_rate * db2"
      ]
    },
    {
      "cell_type": "markdown",
      "source": [
        "# Train the Model"
      ],
      "metadata": {
        "id": "DJWe5SteNSkD"
      }
    },
    {
      "cell_type": "code",
      "source": [
        "def train_model(model, X_train, Y_train, epochs, learning_rate):\n",
        "    loss_history = []\n",
        "    for epoch in range(epochs):\n",
        "        # Forward pass\n",
        "        output = model.forward(X_train)\n",
        "        # Compute loss (categorical cross-entropy)\n",
        "        loss = -np.mean(np.sum(Y_train * np.log(output + 1e-8), axis=1))\n",
        "        loss_history.append(loss)\n",
        "        # Backward pass\n",
        "        model.backward(X_train, Y_train, learning_rate)\n",
        "        print(f'Epoch {epoch+1}/{epochs}, Loss: {loss:.4f}')\n",
        "    return loss_history\n",
        "\n",
        "# Initialize the model\n",
        "input_size = 784\n",
        "hidden_size = 128\n",
        "output_size = 10\n",
        "model = NeuralNetwork(input_size, hidden_size, output_size)\n",
        "\n",
        "# Train the model\n",
        "epochs = 100\n",
        "learning_rate = 0.1\n",
        "loss_history = train_model(model, train_images, train_labels, epochs, learning_rate)"
      ],
      "metadata": {
        "colab": {
          "base_uri": "https://localhost:8080/"
        },
        "id": "EoUhIuNyNSHG",
        "outputId": "8163eace-7936-4e3f-c111-38fcbf8b60d6"
      },
      "execution_count": null,
      "outputs": [
        {
          "output_type": "stream",
          "name": "stdout",
          "text": [
            "Epoch 1/100, Loss: 2.3036\n",
            "Epoch 2/100, Loss: 2.3025\n",
            "Epoch 3/100, Loss: 2.3014\n",
            "Epoch 4/100, Loss: 2.3003\n",
            "Epoch 5/100, Loss: 2.2992\n",
            "Epoch 6/100, Loss: 2.2981\n",
            "Epoch 7/100, Loss: 2.2969\n",
            "Epoch 8/100, Loss: 2.2957\n",
            "Epoch 9/100, Loss: 2.2944\n",
            "Epoch 10/100, Loss: 2.2930\n",
            "Epoch 11/100, Loss: 2.2916\n",
            "Epoch 12/100, Loss: 2.2901\n",
            "Epoch 13/100, Loss: 2.2885\n",
            "Epoch 14/100, Loss: 2.2868\n",
            "Epoch 15/100, Loss: 2.2850\n",
            "Epoch 16/100, Loss: 2.2830\n",
            "Epoch 17/100, Loss: 2.2809\n",
            "Epoch 18/100, Loss: 2.2787\n",
            "Epoch 19/100, Loss: 2.2762\n",
            "Epoch 20/100, Loss: 2.2736\n",
            "Epoch 21/100, Loss: 2.2709\n",
            "Epoch 22/100, Loss: 2.2678\n",
            "Epoch 23/100, Loss: 2.2646\n",
            "Epoch 24/100, Loss: 2.2611\n",
            "Epoch 25/100, Loss: 2.2574\n",
            "Epoch 26/100, Loss: 2.2533\n",
            "Epoch 27/100, Loss: 2.2490\n",
            "Epoch 28/100, Loss: 2.2443\n",
            "Epoch 29/100, Loss: 2.2393\n",
            "Epoch 30/100, Loss: 2.2339\n",
            "Epoch 31/100, Loss: 2.2281\n",
            "Epoch 32/100, Loss: 2.2219\n",
            "Epoch 33/100, Loss: 2.2152\n",
            "Epoch 34/100, Loss: 2.2080\n",
            "Epoch 35/100, Loss: 2.2004\n",
            "Epoch 36/100, Loss: 2.1922\n",
            "Epoch 37/100, Loss: 2.1834\n",
            "Epoch 38/100, Loss: 2.1740\n",
            "Epoch 39/100, Loss: 2.1640\n",
            "Epoch 40/100, Loss: 2.1534\n",
            "Epoch 41/100, Loss: 2.1421\n",
            "Epoch 42/100, Loss: 2.1302\n",
            "Epoch 43/100, Loss: 2.1175\n",
            "Epoch 44/100, Loss: 2.1041\n",
            "Epoch 45/100, Loss: 2.0899\n",
            "Epoch 46/100, Loss: 2.0750\n",
            "Epoch 47/100, Loss: 2.0594\n",
            "Epoch 48/100, Loss: 2.0429\n",
            "Epoch 49/100, Loss: 2.0257\n",
            "Epoch 50/100, Loss: 2.0077\n",
            "Epoch 51/100, Loss: 1.9890\n",
            "Epoch 52/100, Loss: 1.9694\n",
            "Epoch 53/100, Loss: 1.9492\n",
            "Epoch 54/100, Loss: 1.9281\n",
            "Epoch 55/100, Loss: 1.9064\n",
            "Epoch 56/100, Loss: 1.8840\n",
            "Epoch 57/100, Loss: 1.8610\n",
            "Epoch 58/100, Loss: 1.8373\n",
            "Epoch 59/100, Loss: 1.8131\n",
            "Epoch 60/100, Loss: 1.7884\n",
            "Epoch 61/100, Loss: 1.7633\n",
            "Epoch 62/100, Loss: 1.7378\n",
            "Epoch 63/100, Loss: 1.7120\n",
            "Epoch 64/100, Loss: 1.6859\n",
            "Epoch 65/100, Loss: 1.6597\n",
            "Epoch 66/100, Loss: 1.6334\n",
            "Epoch 67/100, Loss: 1.6070\n",
            "Epoch 68/100, Loss: 1.5807\n",
            "Epoch 69/100, Loss: 1.5545\n",
            "Epoch 70/100, Loss: 1.5285\n",
            "Epoch 71/100, Loss: 1.5026\n",
            "Epoch 72/100, Loss: 1.4771\n",
            "Epoch 73/100, Loss: 1.4519\n",
            "Epoch 74/100, Loss: 1.4271\n",
            "Epoch 75/100, Loss: 1.4027\n",
            "Epoch 76/100, Loss: 1.3788\n",
            "Epoch 77/100, Loss: 1.3553\n",
            "Epoch 78/100, Loss: 1.3324\n",
            "Epoch 79/100, Loss: 1.3100\n",
            "Epoch 80/100, Loss: 1.2881\n",
            "Epoch 81/100, Loss: 1.2668\n",
            "Epoch 82/100, Loss: 1.2460\n",
            "Epoch 83/100, Loss: 1.2258\n",
            "Epoch 84/100, Loss: 1.2062\n",
            "Epoch 85/100, Loss: 1.1871\n",
            "Epoch 86/100, Loss: 1.1686\n",
            "Epoch 87/100, Loss: 1.1506\n",
            "Epoch 88/100, Loss: 1.1332\n",
            "Epoch 89/100, Loss: 1.1162\n",
            "Epoch 90/100, Loss: 1.0998\n",
            "Epoch 91/100, Loss: 1.0839\n",
            "Epoch 92/100, Loss: 1.0684\n",
            "Epoch 93/100, Loss: 1.0535\n",
            "Epoch 94/100, Loss: 1.0389\n",
            "Epoch 95/100, Loss: 1.0248\n",
            "Epoch 96/100, Loss: 1.0112\n",
            "Epoch 97/100, Loss: 0.9979\n",
            "Epoch 98/100, Loss: 0.9851\n",
            "Epoch 99/100, Loss: 0.9726\n",
            "Epoch 100/100, Loss: 0.9605\n"
          ]
        }
      ]
    },
    {
      "cell_type": "markdown",
      "source": [
        "# Visualize the Loss"
      ],
      "metadata": {
        "id": "DNO9xey9NUL7"
      }
    },
    {
      "cell_type": "code",
      "source": [
        "plt.plot(loss_history)\n",
        "plt.xlabel('Epochs')\n",
        "plt.ylabel('Loss')\n",
        "plt.title('Training Loss over Epochs')\n",
        "plt.show()"
      ],
      "metadata": {
        "colab": {
          "base_uri": "https://localhost:8080/",
          "height": 472
        },
        "id": "xt9z4ZtWNQpI",
        "outputId": "2547ef15-bf7d-494c-f357-38146bc00ebf"
      },
      "execution_count": null,
      "outputs": [
        {
          "output_type": "display_data",
          "data": {
            "text/plain": [
              "<Figure size 640x480 with 1 Axes>"
            ],
            "image/png": "[encoded data removed]"
          },
          "metadata": {}
        }
      ]
    },
    {
      "cell_type": "markdown",
      "source": [
        "# Evaluate Model"
      ],
      "metadata": {
        "id": "R5KwxnmmNeFH"
      }
    },
    {
      "cell_type": "code",
      "source": [
        "def evaluate_model(model, X_test, Y_test):\n",
        "    output = model.forward(X_test)\n",
        "    predictions = np.argmax(output, axis=1)\n",
        "    labels = np.argmax(Y_test, axis=1)\n",
        "    accuracy = np.mean(predictions == labels)\n",
        "    print(f'Test Accuracy: {accuracy * 100:.2f}%')\n",
        "\n",
        "evaluate_model(model, test_images, test_labels)"
      ],
      "metadata": {
        "colab": {
          "base_uri": "https://localhost:8080/"
        },
        "id": "2NNc5twhNcTy",
        "outputId": "4cc328cf-22af-44f5-e74f-94a54ffdded3"
      },
      "execution_count": null,
      "outputs": [
        {
          "output_type": "stream",
          "name": "stdout",
          "text": [
            "Test Accuracy: 79.15%\n"
          ]
        }
      ]
    }
  ],
  "metadata": {
    "colab": {
      "provenance": []
    },
    "kernelspec": {
      "display_name": "Python 3",
      "name": "python3"
    },
    "language_info": {
      "name": "python"
    }
  },
  "nbformat": 4,
  "nbformat_minor": 0
}