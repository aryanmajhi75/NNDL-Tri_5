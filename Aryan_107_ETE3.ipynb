{
  "nbformat": 4,
  "nbformat_minor": 0,
  "metadata": {
    "colab": {
      "provenance": []
    },
    "kernelspec": {
      "name": "python3",
      "display_name": "Python 3"
    },
    "language_info": {
      "name": "python"
    }
  },
  "cells": [
    {
      "cell_type": "code",
      "execution_count": 1,
      "metadata": {
        "colab": {
          "base_uri": "https://localhost:8080/"
        },
        "id": "5md6QpjLTZBx",
        "outputId": "aca5a743-4f00-4366-f85d-ce79d2ccd8cf"
      },
      "outputs": [
        {
          "output_type": "stream",
          "name": "stdout",
          "text": [
            "Mounted at /content/drive\n"
          ]
        }
      ],
      "source": [
        "from google.colab import drive\n",
        "drive.mount('/content/drive')"
      ]
    },
    {
      "cell_type": "code",
      "source": [
        "import pandas as pd\n",
        "from sklearn.preprocessing import MinMaxScaler\n",
        "from sklearn.model_selection import train_test_split\n",
        "import numpy as np\n",
        "import tensorflow as tf\n",
        "from tensorflow.keras.models import Model\n",
        "from tensorflow.keras.layers import Input, LSTM, RepeatVector, TimeDistributed, Dense\n",
        "from tensorflow.keras.callbacks import EarlyStopping\n",
        "import matplotlib.pyplot as plt"
      ],
      "metadata": {
        "id": "3yoRLRMeT9cN"
      },
      "execution_count": 225,
      "outputs": []
    },
    {
      "cell_type": "code",
      "source": [
        "data = pd.read_csv(\"/content/drive/MyDrive/NNDL/ETE3/weather_data.csv\")\n",
        "data.head(10)"
      ],
      "metadata": {
        "colab": {
          "base_uri": "https://localhost:8080/",
          "height": 363
        },
        "id": "D-pbRG6JT-ky",
        "outputId": "b80e9bfc-f460-400e-f59a-9e9034af1351"
      },
      "execution_count": 226,
      "outputs": [
        {
          "output_type": "execute_result",
          "data": {
            "text/plain": [
              "         date  temperature\n",
              "0  2014-01-01    10.248357\n",
              "1  2014-01-02     9.950428\n",
              "2  2014-01-03    10.362958\n",
              "3  2014-01-04    10.820167\n",
              "4  2014-01-05     9.961091\n",
              "5  2014-01-06     9.980585\n",
              "6  2014-01-07    10.906708\n",
              "7  2014-01-08    10.520223\n",
              "8  2014-01-09     9.921119\n",
              "9  2014-01-10    10.446428"
            ],
            "text/html": [
              "\n",
              "  <div id=\"df-755b5967-1590-4f79-9f52-a72421c0bf53\" class=\"colab-df-container\">\n",
              "    <div>\n",
              "<style scoped>\n",
              "    .dataframe tbody tr th:only-of-type {\n",
              "        vertical-align: middle;\n",
              "    }\n",
              "\n",
              "    .dataframe tbody tr th {\n",
              "        vertical-align: top;\n",
              "    }\n",
              "\n",
              "    .dataframe thead th {\n",
              "        text-align: right;\n",
              "    }\n",
              "</style>\n",
              "<table border=\"1\" class=\"dataframe\">\n",
              "  <thead>\n",
              "    <tr style=\"text-align: right;\">\n",
              "      <th></th>\n",
              "      <th>date</th>\n",
              "      <th>temperature</th>\n",
              "    </tr>\n",
              "  </thead>\n",
              "  <tbody>\n",
              "    <tr>\n",
              "      <th>0</th>\n",
              "      <td>2014-01-01</td>\n",
              "      <td>10.248357</td>\n",
              "    </tr>\n",
              "    <tr>\n",
              "      <th>1</th>\n",
              "      <td>2014-01-02</td>\n",
              "      <td>9.950428</td>\n",
              "    </tr>\n",
              "    <tr>\n",
              "      <th>2</th>\n",
              "      <td>2014-01-03</td>\n",
              "      <td>10.362958</td>\n",
              "    </tr>\n",
              "    <tr>\n",
              "      <th>3</th>\n",
              "      <td>2014-01-04</td>\n",
              "      <td>10.820167</td>\n",
              "    </tr>\n",
              "    <tr>\n",
              "      <th>4</th>\n",
              "      <td>2014-01-05</td>\n",
              "      <td>9.961091</td>\n",
              "    </tr>\n",
              "    <tr>\n",
              "      <th>5</th>\n",
              "      <td>2014-01-06</td>\n",
              "      <td>9.980585</td>\n",
              "    </tr>\n",
              "    <tr>\n",
              "      <th>6</th>\n",
              "      <td>2014-01-07</td>\n",
              "      <td>10.906708</td>\n",
              "    </tr>\n",
              "    <tr>\n",
              "      <th>7</th>\n",
              "      <td>2014-01-08</td>\n",
              "      <td>10.520223</td>\n",
              "    </tr>\n",
              "    <tr>\n",
              "      <th>8</th>\n",
              "      <td>2014-01-09</td>\n",
              "      <td>9.921119</td>\n",
              "    </tr>\n",
              "    <tr>\n",
              "      <th>9</th>\n",
              "      <td>2014-01-10</td>\n",
              "      <td>10.446428</td>\n",
              "    </tr>\n",
              "  </tbody>\n",
              "</table>\n",
              "</div>\n",
              "    <div class=\"colab-df-buttons\">\n",
              "\n",
              "  <div class=\"colab-df-container\">\n",
              "    <button class=\"colab-df-convert\" onclick=\"convertToInteractive('df-755b5967-1590-4f79-9f52-a72421c0bf53')\"\n",
              "            title=\"Convert this dataframe to an interactive table.\"\n",
              "            style=\"display:none;\">\n",
              "\n",
              "  <svg xmlns=\"http://www.w3.org/2000/svg\" height=\"24px\" viewBox=\"0 -960 960 960\">\n",
              "    <path d=\"M120-120v-720h720v720H120Zm60-500h600v-160H180v160Zm220 220h160v-160H400v160Zm0 220h160v-160H400v160ZM180-400h160v-160H180v160Zm440 0h160v-160H620v160ZM180-180h160v-160H180v160Zm440 0h160v-160H620v160Z\"/>\n",
              "  </svg>\n",
              "    </button>\n",
              "\n",
              "  <style>\n",
              "    .colab-df-container {\n",
              "      display:flex;\n",
              "      gap: 12px;\n",
              "    }\n",
              "\n",
              "    .colab-df-convert {\n",
              "      background-color: #E8F0FE;\n",
              "      border: none;\n",
              "      border-radius: 50%;\n",
              "      cursor: pointer;\n",
              "      display: none;\n",
              "      fill: #1967D2;\n",
              "      height: 32px;\n",
              "      padding: 0 0 0 0;\n",
              "      width: 32px;\n",
              "    }\n",
              "\n",
              "    .colab-df-convert:hover {\n",
              "      background-color: #E2EBFA;\n",
              "      box-shadow: 0px 1px 2px rgba(60, 64, 67, 0.3), 0px 1px 3px 1px rgba(60, 64, 67, 0.15);\n",
              "      fill: #174EA6;\n",
              "    }\n",
              "\n",
              "    .colab-df-buttons div {\n",
              "      margin-bottom: 4px;\n",
              "    }\n",
              "\n",
              "    [theme=dark] .colab-df-convert {\n",
              "      background-color: #3B4455;\n",
              "      fill: #D2E3FC;\n",
              "    }\n",
              "\n",
              "    [theme=dark] .colab-df-convert:hover {\n",
              "      background-color: #434B5C;\n",
              "      box-shadow: 0px 1px 3px 1px rgba(0, 0, 0, 0.15);\n",
              "      filter: drop-shadow(0px 1px 2px rgba(0, 0, 0, 0.3));\n",
              "      fill: #FFFFFF;\n",
              "    }\n",
              "  </style>\n",
              "\n",
              "    <script>\n",
              "      const buttonEl =\n",
              "        document.querySelector('#df-755b5967-1590-4f79-9f52-a72421c0bf53 button.colab-df-convert');\n",
              "      buttonEl.style.display =\n",
              "        google.colab.kernel.accessAllowed ? 'block' : 'none';\n",
              "\n",
              "      async function convertToInteractive(key) {\n",
              "        const element = document.querySelector('#df-755b5967-1590-4f79-9f52-a72421c0bf53');\n",
              "        const dataTable =\n",
              "          await google.colab.kernel.invokeFunction('convertToInteractive',\n",
              "                                                    [key], {});\n",
              "        if (!dataTable) return;\n",
              "\n",
              "        const docLinkHtml = 'Like what you see? Visit the ' +\n",
              "          '<a target=\"_blank\" href=https://colab.research.google.com/notebooks/data_table.ipynb>data table notebook</a>'\n",
              "          + ' to learn more about interactive tables.';\n",
              "        element.innerHTML = '';\n",
              "        dataTable['output_type'] = 'display_data';\n",
              "        await google.colab.output.renderOutput(dataTable, element);\n",
              "        const docLink = document.createElement('div');\n",
              "        docLink.innerHTML = docLinkHtml;\n",
              "        element.appendChild(docLink);\n",
              "      }\n",
              "    </script>\n",
              "  </div>\n",
              "\n",
              "\n",
              "<div id=\"df-3ee44655-ddc5-4ac7-9574-c122d664162e\">\n",
              "  <button class=\"colab-df-quickchart\" onclick=\"quickchart('df-3ee44655-ddc5-4ac7-9574-c122d664162e')\"\n",
              "            title=\"Suggest charts\"\n",
              "            style=\"display:none;\">\n",
              "\n",
              "<svg xmlns=\"http://www.w3.org/2000/svg\" height=\"24px\"viewBox=\"0 0 24 24\"\n",
              "     width=\"24px\">\n",
              "    <g>\n",
              "        <path d=\"M19 3H5c-1.1 0-2 .9-2 2v14c0 1.1.9 2 2 2h14c1.1 0 2-.9 2-2V5c0-1.1-.9-2-2-2zM9 17H7v-7h2v7zm4 0h-2V7h2v10zm4 0h-2v-4h2v4z\"/>\n",
              "    </g>\n",
              "</svg>\n",
              "  </button>\n",
              "\n",
              "<style>\n",
              "  .colab-df-quickchart {\n",
              "      --bg-color: #E8F0FE;\n",
              "      --fill-color: #1967D2;\n",
              "      --hover-bg-color: #E2EBFA;\n",
              "      --hover-fill-color: #174EA6;\n",
              "      --disabled-fill-color: #AAA;\n",
              "      --disabled-bg-color: #DDD;\n",
              "  }\n",
              "\n",
              "  [theme=dark] .colab-df-quickchart {\n",
              "      --bg-color: #3B4455;\n",
              "      --fill-color: #D2E3FC;\n",
              "      --hover-bg-color: #434B5C;\n",
              "      --hover-fill-color: #FFFFFF;\n",
              "      --disabled-bg-color: #3B4455;\n",
              "      --disabled-fill-color: #666;\n",
              "  }\n",
              "\n",
              "  .colab-df-quickchart {\n",
              "    background-color: var(--bg-color);\n",
              "    border: none;\n",
              "    border-radius: 50%;\n",
              "    cursor: pointer;\n",
              "    display: none;\n",
              "    fill: var(--fill-color);\n",
              "    height: 32px;\n",
              "    padding: 0;\n",
              "    width: 32px;\n",
              "  }\n",
              "\n",
              "  .colab-df-quickchart:hover {\n",
              "    background-color: var(--hover-bg-color);\n",
              "    box-shadow: 0 1px 2px rgba(60, 64, 67, 0.3), 0 1px 3px 1px rgba(60, 64, 67, 0.15);\n",
              "    fill: var(--button-hover-fill-color);\n",
              "  }\n",
              "\n",
              "  .colab-df-quickchart-complete:disabled,\n",
              "  .colab-df-quickchart-complete:disabled:hover {\n",
              "    background-color: var(--disabled-bg-color);\n",
              "    fill: var(--disabled-fill-color);\n",
              "    box-shadow: none;\n",
              "  }\n",
              "\n",
              "  .colab-df-spinner {\n",
              "    border: 2px solid var(--fill-color);\n",
              "    border-color: transparent;\n",
              "    border-bottom-color: var(--fill-color);\n",
              "    animation:\n",
              "      spin 1s steps(1) infinite;\n",
              "  }\n",
              "\n",
              "  @keyframes spin {\n",
              "    0% {\n",
              "      border-color: transparent;\n",
              "      border-bottom-color: var(--fill-color);\n",
              "      border-left-color: var(--fill-color);\n",
              "    }\n",
              "    20% {\n",
              "      border-color: transparent;\n",
              "      border-left-color: var(--fill-color);\n",
              "      border-top-color: var(--fill-color);\n",
              "    }\n",
              "    30% {\n",
              "      border-color: transparent;\n",
              "      border-left-color: var(--fill-color);\n",
              "      border-top-color: var(--fill-color);\n",
              "      border-right-color: var(--fill-color);\n",
              "    }\n",
              "    40% {\n",
              "      border-color: transparent;\n",
              "      border-right-color: var(--fill-color);\n",
              "      border-top-color: var(--fill-color);\n",
              "    }\n",
              "    60% {\n",
              "      border-color: transparent;\n",
              "      border-right-color: var(--fill-color);\n",
              "    }\n",
              "    80% {\n",
              "      border-color: transparent;\n",
              "      border-right-color: var(--fill-color);\n",
              "      border-bottom-color: var(--fill-color);\n",
              "    }\n",
              "    90% {\n",
              "      border-color: transparent;\n",
              "      border-bottom-color: var(--fill-color);\n",
              "    }\n",
              "  }\n",
              "</style>\n",
              "\n",
              "  <script>\n",
              "    async function quickchart(key) {\n",
              "      const quickchartButtonEl =\n",
              "        document.querySelector('#' + key + ' button');\n",
              "      quickchartButtonEl.disabled = true;  // To prevent multiple clicks.\n",
              "      quickchartButtonEl.classList.add('colab-df-spinner');\n",
              "      try {\n",
              "        const charts = await google.colab.kernel.invokeFunction(\n",
              "            'suggestCharts', [key], {});\n",
              "      } catch (error) {\n",
              "        console.error('Error during call to suggestCharts:', error);\n",
              "      }\n",
              "      quickchartButtonEl.classList.remove('colab-df-spinner');\n",
              "      quickchartButtonEl.classList.add('colab-df-quickchart-complete');\n",
              "    }\n",
              "    (() => {\n",
              "      let quickchartButtonEl =\n",
              "        document.querySelector('#df-3ee44655-ddc5-4ac7-9574-c122d664162e button');\n",
              "      quickchartButtonEl.style.display =\n",
              "        google.colab.kernel.accessAllowed ? 'block' : 'none';\n",
              "    })();\n",
              "  </script>\n",
              "</div>\n",
              "\n",
              "    </div>\n",
              "  </div>\n"
            ],
            "application/vnd.google.colaboratory.intrinsic+json": {
              "type": "dataframe",
              "variable_name": "data",
              "summary": "{\n  \"name\": \"data\",\n  \"rows\": 2557,\n  \"fields\": [\n    {\n      \"column\": \"date\",\n      \"properties\": {\n        \"dtype\": \"object\",\n        \"num_unique_values\": 2557,\n        \"samples\": [\n          \"2020-11-28\",\n          \"2018-10-17\",\n          \"2019-08-14\"\n        ],\n        \"semantic_type\": \"\",\n        \"description\": \"\"\n      }\n    },\n    {\n      \"column\": \"temperature\",\n      \"properties\": {\n        \"dtype\": \"number\",\n        \"std\": 0.9230468233703436,\n        \"min\": 3.337290504156885,\n        \"max\": 15.587945389869995,\n        \"num_unique_values\": 2557,\n        \"samples\": [\n          9.053104358661429,\n          8.967069348492775,\n          10.225384339811123\n        ],\n        \"semantic_type\": \"\",\n        \"description\": \"\"\n      }\n    }\n  ]\n}"
            }
          },
          "metadata": {},
          "execution_count": 226
        }
      ]
    },
    {
      "cell_type": "code",
      "source": [
        "data.shape"
      ],
      "metadata": {
        "colab": {
          "base_uri": "https://localhost:8080/"
        },
        "id": "Q_tUrGt8VNjK",
        "outputId": "d4e85e13-d294-4255-8e95-606ed059668a"
      },
      "execution_count": 227,
      "outputs": [
        {
          "output_type": "execute_result",
          "data": {
            "text/plain": [
              "(2557, 2)"
            ]
          },
          "metadata": {},
          "execution_count": 227
        }
      ]
    },
    {
      "cell_type": "code",
      "source": [
        "# Parsing the date column\n",
        "data['date'] = pd.to_datetime(data['date'])"
      ],
      "metadata": {
        "id": "XQu1fkQPUgFq"
      },
      "execution_count": 228,
      "outputs": []
    },
    {
      "cell_type": "code",
      "source": [
        "# Normalizing the temperature column\n",
        "scaler = MinMaxScaler(feature_range=(0, 1))\n",
        "data['temperature_normalized'] = scaler.fit_transform(data[['temperature']])"
      ],
      "metadata": {
        "id": "Bl7ufDSBUS3f"
      },
      "execution_count": 229,
      "outputs": []
    },
    {
      "cell_type": "code",
      "source": [
        "# Splitting into training and testing sets\n",
        "train_data, test_data = train_test_split(\n",
        "    data['temperature_normalized'], test_size=0.2, random_state=42, shuffle=False\n",
        ")\n",
        "\n",
        "# Convert to numpy arrays for the LSTM model\n",
        "train_data = train_data.values.reshape(-1, 1)\n",
        "test_data = test_data.values.reshape(-1, 1)"
      ],
      "metadata": {
        "id": "nCDA5-bKUnTq"
      },
      "execution_count": 230,
      "outputs": []
    },
    {
      "cell_type": "code",
      "source": [
        "train_data[:10]"
      ],
      "metadata": {
        "colab": {
          "base_uri": "https://localhost:8080/"
        },
        "id": "01x0JbqoUpXT",
        "outputId": "0580cdb6-2694-4201-efb8-a135ed62ec99"
      },
      "execution_count": 231,
      "outputs": [
        {
          "output_type": "execute_result",
          "data": {
            "text/plain": [
              "array([[0.56413854],\n",
              "       [0.53981913],\n",
              "       [0.57349321],\n",
              "       [0.61081438],\n",
              "       [0.54068948],\n",
              "       [0.54228074],\n",
              "       [0.6178786 ],\n",
              "       [0.58633045],\n",
              "       [0.53742668],\n",
              "       [0.58030675]])"
            ]
          },
          "metadata": {},
          "execution_count": 231
        }
      ]
    },
    {
      "cell_type": "code",
      "source": [
        "# Function to create sequences\n",
        "def create_sequences(data, sequence_length=30):\n",
        "    sequences = []\n",
        "    for i in range(len(data) - sequence_length):\n",
        "        sequences.append(data[i:i + sequence_length])\n",
        "    return np.array(sequences)"
      ],
      "metadata": {
        "id": "YzTeAmNKUuoT"
      },
      "execution_count": 232,
      "outputs": []
    },
    {
      "cell_type": "code",
      "source": [
        "# Create sequences\n",
        "sequence_length = 30\n",
        "X_train = create_sequences(train_data, sequence_length)\n",
        "X_test = create_sequences(test_data, sequence_length)"
      ],
      "metadata": {
        "id": "UQnRU6VBU6wp"
      },
      "execution_count": 233,
      "outputs": []
    },
    {
      "cell_type": "code",
      "source": [
        "print(\"Train data shape : \",X_train.shape)\n",
        "print(\"Test data shape : \",X_test.shape)"
      ],
      "metadata": {
        "colab": {
          "base_uri": "https://localhost:8080/"
        },
        "id": "Mfu31zLtU75U",
        "outputId": "2fdebee5-85f1-4ffb-c49e-768409cb74d6"
      },
      "execution_count": 234,
      "outputs": [
        {
          "output_type": "stream",
          "name": "stdout",
          "text": [
            "Train data shape :  (2015, 30, 1)\n",
            "Test data shape :  (482, 30, 1)\n"
          ]
        }
      ]
    },
    {
      "cell_type": "markdown",
      "source": [
        "The data has been formatted into sequences for the LSTM model:\n",
        "\n",
        "    Training data shape: (2015, 30, 1) (2015 sequences, each 30 time steps, with 1 feature per step).\n",
        "    Testing data shape: (482, 30, 1)."
      ],
      "metadata": {
        "id": "1jJSkH6aVTi7"
      }
    },
    {
      "cell_type": "code",
      "source": [
        "# The LSTM Autoencoder model\n",
        "def build_lstm_autoencoder(sequence_length, feature_dim, latent_dim=16):\n",
        "    # Encoder\n",
        "    inputs = Input(shape=(sequence_length, feature_dim))\n",
        "    encoded = LSTM(latent_dim, activation='relu')(inputs)\n",
        "\n",
        "    # Decoder\n",
        "    decoded = RepeatVector(sequence_length)(encoded)\n",
        "    decoded = LSTM(feature_dim, activation='relu', return_sequences=True)(decoded)\n",
        "\n",
        "    # Autoencoder model\n",
        "    autoencoder = Model(inputs, decoded)\n",
        "    return autoencoder"
      ],
      "metadata": {
        "id": "Qspsgz9WVMJT"
      },
      "execution_count": 235,
      "outputs": []
    },
    {
      "cell_type": "code",
      "source": [
        "latent_dim = 16\n",
        "autoencoder = build_lstm_autoencoder(sequence_length, feature_dim=1, latent_dim=latent_dim)\n",
        "autoencoder.compile(optimizer='adam', loss='mse')"
      ],
      "metadata": {
        "id": "QAy_mVSLVhIH"
      },
      "execution_count": 236,
      "outputs": []
    },
    {
      "cell_type": "code",
      "source": [
        "autoencoder.summary()"
      ],
      "metadata": {
        "colab": {
          "base_uri": "https://localhost:8080/",
          "height": 262
        },
        "id": "sqcSlbYhVjDp",
        "outputId": "72586c5b-1243-4149-ebd3-c1cd9c5da8ec"
      },
      "execution_count": 237,
      "outputs": [
        {
          "output_type": "display_data",
          "data": {
            "text/plain": [
              "\u001b[1mModel: \"functional_6\"\u001b[0m\n"
            ],
            "text/html": [
              "<pre style=\"white-space:pre;overflow-x:auto;line-height:normal;font-family:Menlo,'DejaVu Sans Mono',consolas,'Courier New',monospace\"><span style=\"font-weight: bold\">Model: \"functional_6\"</span>\n",
              "</pre>\n"
            ]
          },
          "metadata": {}
        },
        {
          "output_type": "display_data",
          "data": {
            "text/plain": [
              "┏━━━━━━━━━━━━━━━━━━━━━━━━━━━━━━━━━━━━━━┳━━━━━━━━━━━━━━━━━━━━━━━━━━━━━┳━━━━━━━━━━━━━━━━━┓\n",
              "┃\u001b[1m \u001b[0m\u001b[1mLayer (type)                        \u001b[0m\u001b[1m \u001b[0m┃\u001b[1m \u001b[0m\u001b[1mOutput Shape               \u001b[0m\u001b[1m \u001b[0m┃\u001b[1m \u001b[0m\u001b[1m        Param #\u001b[0m\u001b[1m \u001b[0m┃\n",
              "┡━━━━━━━━━━━━━━━━━━━━━━━━━━━━━━━━━━━━━━╇━━━━━━━━━━━━━━━━━━━━━━━━━━━━━╇━━━━━━━━━━━━━━━━━┩\n",
              "│ input_layer_6 (\u001b[38;5;33mInputLayer\u001b[0m)           │ (\u001b[38;5;45mNone\u001b[0m, \u001b[38;5;34m30\u001b[0m, \u001b[38;5;34m1\u001b[0m)               │               \u001b[38;5;34m0\u001b[0m │\n",
              "├──────────────────────────────────────┼─────────────────────────────┼─────────────────┤\n",
              "│ lstm_12 (\u001b[38;5;33mLSTM\u001b[0m)                       │ (\u001b[38;5;45mNone\u001b[0m, \u001b[38;5;34m16\u001b[0m)                  │           \u001b[38;5;34m1,152\u001b[0m │\n",
              "├──────────────────────────────────────┼─────────────────────────────┼─────────────────┤\n",
              "│ repeat_vector_6 (\u001b[38;5;33mRepeatVector\u001b[0m)       │ (\u001b[38;5;45mNone\u001b[0m, \u001b[38;5;34m30\u001b[0m, \u001b[38;5;34m16\u001b[0m)              │               \u001b[38;5;34m0\u001b[0m │\n",
              "├──────────────────────────────────────┼─────────────────────────────┼─────────────────┤\n",
              "│ lstm_13 (\u001b[38;5;33mLSTM\u001b[0m)                       │ (\u001b[38;5;45mNone\u001b[0m, \u001b[38;5;34m30\u001b[0m, \u001b[38;5;34m1\u001b[0m)               │              \u001b[38;5;34m72\u001b[0m │\n",
              "└──────────────────────────────────────┴─────────────────────────────┴─────────────────┘\n"
            ],
            "text/html": [
              "<pre style=\"white-space:pre;overflow-x:auto;line-height:normal;font-family:Menlo,'DejaVu Sans Mono',consolas,'Courier New',monospace\">┏━━━━━━━━━━━━━━━━━━━━━━━━━━━━━━━━━━━━━━┳━━━━━━━━━━━━━━━━━━━━━━━━━━━━━┳━━━━━━━━━━━━━━━━━┓\n",
              "┃<span style=\"font-weight: bold\"> Layer (type)                         </span>┃<span style=\"font-weight: bold\"> Output Shape                </span>┃<span style=\"font-weight: bold\">         Param # </span>┃\n",
              "┡━━━━━━━━━━━━━━━━━━━━━━━━━━━━━━━━━━━━━━╇━━━━━━━━━━━━━━━━━━━━━━━━━━━━━╇━━━━━━━━━━━━━━━━━┩\n",
              "│ input_layer_6 (<span style=\"color: #0087ff; text-decoration-color: #0087ff\">InputLayer</span>)           │ (<span style=\"color: #00d7ff; text-decoration-color: #00d7ff\">None</span>, <span style=\"color: #00af00; text-decoration-color: #00af00\">30</span>, <span style=\"color: #00af00; text-decoration-color: #00af00\">1</span>)               │               <span style=\"color: #00af00; text-decoration-color: #00af00\">0</span> │\n",
              "├──────────────────────────────────────┼─────────────────────────────┼─────────────────┤\n",
              "│ lstm_12 (<span style=\"color: #0087ff; text-decoration-color: #0087ff\">LSTM</span>)                       │ (<span style=\"color: #00d7ff; text-decoration-color: #00d7ff\">None</span>, <span style=\"color: #00af00; text-decoration-color: #00af00\">16</span>)                  │           <span style=\"color: #00af00; text-decoration-color: #00af00\">1,152</span> │\n",
              "├──────────────────────────────────────┼─────────────────────────────┼─────────────────┤\n",
              "│ repeat_vector_6 (<span style=\"color: #0087ff; text-decoration-color: #0087ff\">RepeatVector</span>)       │ (<span style=\"color: #00d7ff; text-decoration-color: #00d7ff\">None</span>, <span style=\"color: #00af00; text-decoration-color: #00af00\">30</span>, <span style=\"color: #00af00; text-decoration-color: #00af00\">16</span>)              │               <span style=\"color: #00af00; text-decoration-color: #00af00\">0</span> │\n",
              "├──────────────────────────────────────┼─────────────────────────────┼─────────────────┤\n",
              "│ lstm_13 (<span style=\"color: #0087ff; text-decoration-color: #0087ff\">LSTM</span>)                       │ (<span style=\"color: #00d7ff; text-decoration-color: #00d7ff\">None</span>, <span style=\"color: #00af00; text-decoration-color: #00af00\">30</span>, <span style=\"color: #00af00; text-decoration-color: #00af00\">1</span>)               │              <span style=\"color: #00af00; text-decoration-color: #00af00\">72</span> │\n",
              "└──────────────────────────────────────┴─────────────────────────────┴─────────────────┘\n",
              "</pre>\n"
            ]
          },
          "metadata": {}
        },
        {
          "output_type": "display_data",
          "data": {
            "text/plain": [
              "\u001b[1m Total params: \u001b[0m\u001b[38;5;34m1,224\u001b[0m (4.78 KB)\n"
            ],
            "text/html": [
              "<pre style=\"white-space:pre;overflow-x:auto;line-height:normal;font-family:Menlo,'DejaVu Sans Mono',consolas,'Courier New',monospace\"><span style=\"font-weight: bold\"> Total params: </span><span style=\"color: #00af00; text-decoration-color: #00af00\">1,224</span> (4.78 KB)\n",
              "</pre>\n"
            ]
          },
          "metadata": {}
        },
        {
          "output_type": "display_data",
          "data": {
            "text/plain": [
              "\u001b[1m Trainable params: \u001b[0m\u001b[38;5;34m1,224\u001b[0m (4.78 KB)\n"
            ],
            "text/html": [
              "<pre style=\"white-space:pre;overflow-x:auto;line-height:normal;font-family:Menlo,'DejaVu Sans Mono',consolas,'Courier New',monospace\"><span style=\"font-weight: bold\"> Trainable params: </span><span style=\"color: #00af00; text-decoration-color: #00af00\">1,224</span> (4.78 KB)\n",
              "</pre>\n"
            ]
          },
          "metadata": {}
        },
        {
          "output_type": "display_data",
          "data": {
            "text/plain": [
              "\u001b[1m Non-trainable params: \u001b[0m\u001b[38;5;34m0\u001b[0m (0.00 B)\n"
            ],
            "text/html": [
              "<pre style=\"white-space:pre;overflow-x:auto;line-height:normal;font-family:Menlo,'DejaVu Sans Mono',consolas,'Courier New',monospace\"><span style=\"font-weight: bold\"> Non-trainable params: </span><span style=\"color: #00af00; text-decoration-color: #00af00\">0</span> (0.00 B)\n",
              "</pre>\n"
            ]
          },
          "metadata": {}
        }
      ]
    },
    {
      "cell_type": "code",
      "source": [
        "early_stopping = EarlyStopping(monitor='val_loss', patience=4, restore_best_weights=True)"
      ],
      "metadata": {
        "id": "EZWCxgwiWsbV"
      },
      "execution_count": 238,
      "outputs": []
    },
    {
      "cell_type": "code",
      "source": [
        "history = autoencoder.fit(\n",
        "    X_train,\n",
        "    X_train,\n",
        "    epochs=60,\n",
        "    batch_size=32,\n",
        "    validation_split=0.2,\n",
        "    shuffle=True,\n",
        "    callbacks=[early_stopping]\n",
        "  )"
      ],
      "metadata": {
        "colab": {
          "base_uri": "https://localhost:8080/"
        },
        "id": "J9i785l_Vnac",
        "outputId": "1ee180e4-ad66-4d39-ab34-0efc1bb9df17"
      },
      "execution_count": 239,
      "outputs": [
        {
          "output_type": "stream",
          "name": "stdout",
          "text": [
            "Epoch 1/60\n",
            "\u001b[1m51/51\u001b[0m \u001b[32m━━━━━━━━━━━━━━━━━━━━\u001b[0m\u001b[37m\u001b[0m \u001b[1m4s\u001b[0m 25ms/step - loss: 0.2152 - val_loss: 0.0307\n",
            "Epoch 2/60\n",
            "\u001b[1m51/51\u001b[0m \u001b[32m━━━━━━━━━━━━━━━━━━━━\u001b[0m\u001b[37m\u001b[0m \u001b[1m2s\u001b[0m 19ms/step - loss: 0.0121 - val_loss: 0.0060\n",
            "Epoch 3/60\n",
            "\u001b[1m51/51\u001b[0m \u001b[32m━━━━━━━━━━━━━━━━━━━━\u001b[0m\u001b[37m\u001b[0m \u001b[1m1s\u001b[0m 19ms/step - loss: 0.0055 - val_loss: 0.0053\n",
            "Epoch 4/60\n",
            "\u001b[1m51/51\u001b[0m \u001b[32m━━━━━━━━━━━━━━━━━━━━\u001b[0m\u001b[37m\u001b[0m \u001b[1m2s\u001b[0m 26ms/step - loss: 0.0049 - val_loss: 0.0042\n",
            "Epoch 5/60\n",
            "\u001b[1m51/51\u001b[0m \u001b[32m━━━━━━━━━━━━━━━━━━━━\u001b[0m\u001b[37m\u001b[0m \u001b[1m1s\u001b[0m 28ms/step - loss: 0.0035 - val_loss: 0.0032\n",
            "Epoch 6/60\n",
            "\u001b[1m51/51\u001b[0m \u001b[32m━━━━━━━━━━━━━━━━━━━━\u001b[0m\u001b[37m\u001b[0m \u001b[1m1s\u001b[0m 29ms/step - loss: 0.0029 - val_loss: 0.0028\n",
            "Epoch 7/60\n",
            "\u001b[1m51/51\u001b[0m \u001b[32m━━━━━━━━━━━━━━━━━━━━\u001b[0m\u001b[37m\u001b[0m \u001b[1m1s\u001b[0m 27ms/step - loss: 0.0027 - val_loss: 0.0028\n",
            "Epoch 8/60\n",
            "\u001b[1m51/51\u001b[0m \u001b[32m━━━━━━━━━━━━━━━━━━━━\u001b[0m\u001b[37m\u001b[0m \u001b[1m2s\u001b[0m 18ms/step - loss: 0.0026 - val_loss: 0.0028\n",
            "Epoch 9/60\n",
            "\u001b[1m51/51\u001b[0m \u001b[32m━━━━━━━━━━━━━━━━━━━━\u001b[0m\u001b[37m\u001b[0m \u001b[1m1s\u001b[0m 18ms/step - loss: 0.0026 - val_loss: 0.0027\n",
            "Epoch 10/60\n",
            "\u001b[1m51/51\u001b[0m \u001b[32m━━━━━━━━━━━━━━━━━━━━\u001b[0m\u001b[37m\u001b[0m \u001b[1m1s\u001b[0m 18ms/step - loss: 0.0026 - val_loss: 0.0027\n",
            "Epoch 11/60\n",
            "\u001b[1m51/51\u001b[0m \u001b[32m━━━━━━━━━━━━━━━━━━━━\u001b[0m\u001b[37m\u001b[0m \u001b[1m1s\u001b[0m 19ms/step - loss: 0.0025 - val_loss: 0.0027\n",
            "Epoch 12/60\n",
            "\u001b[1m51/51\u001b[0m \u001b[32m━━━━━━━━━━━━━━━━━━━━\u001b[0m\u001b[37m\u001b[0m \u001b[1m1s\u001b[0m 19ms/step - loss: 0.0025 - val_loss: 0.0027\n",
            "Epoch 13/60\n",
            "\u001b[1m51/51\u001b[0m \u001b[32m━━━━━━━━━━━━━━━━━━━━\u001b[0m\u001b[37m\u001b[0m \u001b[1m1s\u001b[0m 18ms/step - loss: 0.0025 - val_loss: 0.0027\n",
            "Epoch 14/60\n",
            "\u001b[1m51/51\u001b[0m \u001b[32m━━━━━━━━━━━━━━━━━━━━\u001b[0m\u001b[37m\u001b[0m \u001b[1m1s\u001b[0m 18ms/step - loss: 0.0024 - val_loss: 0.0027\n",
            "Epoch 15/60\n",
            "\u001b[1m51/51\u001b[0m \u001b[32m━━━━━━━━━━━━━━━━━━━━\u001b[0m\u001b[37m\u001b[0m \u001b[1m1s\u001b[0m 19ms/step - loss: 0.0025 - val_loss: 0.0026\n",
            "Epoch 16/60\n",
            "\u001b[1m51/51\u001b[0m \u001b[32m━━━━━━━━━━━━━━━━━━━━\u001b[0m\u001b[37m\u001b[0m \u001b[1m1s\u001b[0m 28ms/step - loss: 0.0024 - val_loss: 0.0026\n",
            "Epoch 17/60\n",
            "\u001b[1m51/51\u001b[0m \u001b[32m━━━━━━━━━━━━━━━━━━━━\u001b[0m\u001b[37m\u001b[0m \u001b[1m3s\u001b[0m 28ms/step - loss: 0.0023 - val_loss: 0.0026\n",
            "Epoch 18/60\n",
            "\u001b[1m51/51\u001b[0m \u001b[32m━━━━━━━━━━━━━━━━━━━━\u001b[0m\u001b[37m\u001b[0m \u001b[1m2s\u001b[0m 19ms/step - loss: 0.0024 - val_loss: 0.0026\n",
            "Epoch 19/60\n",
            "\u001b[1m51/51\u001b[0m \u001b[32m━━━━━━━━━━━━━━━━━━━━\u001b[0m\u001b[37m\u001b[0m \u001b[1m1s\u001b[0m 19ms/step - loss: 0.0024 - val_loss: 0.0026\n",
            "Epoch 20/60\n",
            "\u001b[1m51/51\u001b[0m \u001b[32m━━━━━━━━━━━━━━━━━━━━\u001b[0m\u001b[37m\u001b[0m \u001b[1m1s\u001b[0m 19ms/step - loss: 0.0024 - val_loss: 0.0026\n",
            "Epoch 21/60\n",
            "\u001b[1m51/51\u001b[0m \u001b[32m━━━━━━━━━━━━━━━━━━━━\u001b[0m\u001b[37m\u001b[0m \u001b[1m1s\u001b[0m 19ms/step - loss: 0.0024 - val_loss: 0.0026\n",
            "Epoch 22/60\n",
            "\u001b[1m51/51\u001b[0m \u001b[32m━━━━━━━━━━━━━━━━━━━━\u001b[0m\u001b[37m\u001b[0m \u001b[1m1s\u001b[0m 19ms/step - loss: 0.0023 - val_loss: 0.0026\n",
            "Epoch 23/60\n",
            "\u001b[1m51/51\u001b[0m \u001b[32m━━━━━━━━━━━━━━━━━━━━\u001b[0m\u001b[37m\u001b[0m \u001b[1m1s\u001b[0m 19ms/step - loss: 0.0024 - val_loss: 0.0025\n",
            "Epoch 24/60\n",
            "\u001b[1m51/51\u001b[0m \u001b[32m━━━━━━━━━━━━━━━━━━━━\u001b[0m\u001b[37m\u001b[0m \u001b[1m1s\u001b[0m 18ms/step - loss: 0.0023 - val_loss: 0.0025\n",
            "Epoch 25/60\n",
            "\u001b[1m51/51\u001b[0m \u001b[32m━━━━━━━━━━━━━━━━━━━━\u001b[0m\u001b[37m\u001b[0m \u001b[1m1s\u001b[0m 19ms/step - loss: 0.0024 - val_loss: 0.0025\n",
            "Epoch 26/60\n",
            "\u001b[1m51/51\u001b[0m \u001b[32m━━━━━━━━━━━━━━━━━━━━\u001b[0m\u001b[37m\u001b[0m \u001b[1m1s\u001b[0m 25ms/step - loss: 0.0023 - val_loss: 0.0026\n",
            "Epoch 27/60\n",
            "\u001b[1m51/51\u001b[0m \u001b[32m━━━━━━━━━━━━━━━━━━━━\u001b[0m\u001b[37m\u001b[0m \u001b[1m1s\u001b[0m 28ms/step - loss: 0.0023 - val_loss: 0.0025\n",
            "Epoch 28/60\n",
            "\u001b[1m51/51\u001b[0m \u001b[32m━━━━━━━━━━━━━━━━━━━━\u001b[0m\u001b[37m\u001b[0m \u001b[1m2s\u001b[0m 30ms/step - loss: 0.0024 - val_loss: 0.0025\n",
            "Epoch 29/60\n",
            "\u001b[1m51/51\u001b[0m \u001b[32m━━━━━━━━━━━━━━━━━━━━\u001b[0m\u001b[37m\u001b[0m \u001b[1m2s\u001b[0m 19ms/step - loss: 0.0023 - val_loss: 0.0025\n",
            "Epoch 30/60\n",
            "\u001b[1m51/51\u001b[0m \u001b[32m━━━━━━━━━━━━━━━━━━━━\u001b[0m\u001b[37m\u001b[0m \u001b[1m1s\u001b[0m 19ms/step - loss: 0.0023 - val_loss: 0.0025\n",
            "Epoch 31/60\n",
            "\u001b[1m51/51\u001b[0m \u001b[32m━━━━━━━━━━━━━━━━━━━━\u001b[0m\u001b[37m\u001b[0m \u001b[1m1s\u001b[0m 19ms/step - loss: 0.0023 - val_loss: 0.0025\n",
            "Epoch 32/60\n",
            "\u001b[1m51/51\u001b[0m \u001b[32m━━━━━━━━━━━━━━━━━━━━\u001b[0m\u001b[37m\u001b[0m \u001b[1m1s\u001b[0m 19ms/step - loss: 0.0024 - val_loss: 0.0025\n",
            "Epoch 33/60\n",
            "\u001b[1m51/51\u001b[0m \u001b[32m━━━━━━━━━━━━━━━━━━━━\u001b[0m\u001b[37m\u001b[0m \u001b[1m1s\u001b[0m 20ms/step - loss: 0.0022 - val_loss: 0.0025\n",
            "Epoch 34/60\n",
            "\u001b[1m51/51\u001b[0m \u001b[32m━━━━━━━━━━━━━━━━━━━━\u001b[0m\u001b[37m\u001b[0m \u001b[1m1s\u001b[0m 19ms/step - loss: 0.0023 - val_loss: 0.0025\n",
            "Epoch 35/60\n",
            "\u001b[1m51/51\u001b[0m \u001b[32m━━━━━━━━━━━━━━━━━━━━\u001b[0m\u001b[37m\u001b[0m \u001b[1m1s\u001b[0m 20ms/step - loss: 0.0023 - val_loss: 0.0025\n",
            "Epoch 36/60\n",
            "\u001b[1m51/51\u001b[0m \u001b[32m━━━━━━━━━━━━━━━━━━━━\u001b[0m\u001b[37m\u001b[0m \u001b[1m1s\u001b[0m 20ms/step - loss: 0.0023 - val_loss: 0.0025\n"
          ]
        }
      ]
    },
    {
      "cell_type": "code",
      "source": [
        "plt.figure(figsize=(8, 5))\n",
        "plt.plot(history.history['loss'], label='Training Loss')\n",
        "plt.plot(history.history['val_loss'], label='Validation Loss')\n",
        "plt.title('Model Loss During Training')\n",
        "plt.xlabel('Epochs')\n",
        "plt.ylabel('Loss')\n",
        "plt.legend()\n",
        "plt.show()"
      ],
      "metadata": {
        "colab": {
          "base_uri": "https://localhost:8080/",
          "height": 487
        },
        "id": "5F_mj3NKWfqD",
        "outputId": "23c78e80-7fe7-47a4-fa42-c8f72f2fccb2"
      },
      "execution_count": 240,
      "outputs": [
        {
          "output_type": "display_data",
          "data": {
            "text/plain": [
              "<Figure size 800x500 with 1 Axes>"
            ],
            "image/png": "[encoded data removed]"
          },
          "metadata": {}
        }
      ]
    },
    {
      "cell_type": "code",
      "source": [
        "train_reconstructions = autoencoder.predict(X_train)\n",
        "train_loss = np.mean(np.square(X_train - train_reconstructions), axis=(1, 2))\n",
        "\n",
        "test_reconstructions = autoencoder.predict(X_test)\n",
        "test_loss = np.mean(np.square(X_test - test_reconstructions), axis=(1, 2))"
      ],
      "metadata": {
        "colab": {
          "base_uri": "https://localhost:8080/"
        },
        "id": "jgnwOWMcWhXQ",
        "outputId": "13f5cf33-6daa-4232-abce-2abac6674eed"
      },
      "execution_count": 241,
      "outputs": [
        {
          "output_type": "stream",
          "name": "stdout",
          "text": [
            "\u001b[1m63/63\u001b[0m \u001b[32m━━━━━━━━━━━━━━━━━━━━\u001b[0m\u001b[37m\u001b[0m \u001b[1m1s\u001b[0m 13ms/step\n",
            "\u001b[1m16/16\u001b[0m \u001b[32m━━━━━━━━━━━━━━━━━━━━\u001b[0m\u001b[37m\u001b[0m \u001b[1m0s\u001b[0m 8ms/step\n"
          ]
        }
      ]
    },
    {
      "cell_type": "code",
      "source": [
        "print(f\"\\nTrain MSE: {train_loss}\")\n",
        "print(f\"\\nTest MSE: {test_loss}\")"
      ],
      "metadata": {
        "colab": {
          "base_uri": "https://localhost:8080/"
        },
        "id": "l77AQQEsYeZ1",
        "outputId": "6474fdad-7e70-48dd-ed3d-49cd60b0f1e3"
      },
      "execution_count": 242,
      "outputs": [
        {
          "output_type": "stream",
          "name": "stdout",
          "text": [
            "\n",
            "Train MSE: [0.00114252 0.00116855 0.00150501 ... 0.00703037 0.00723957 0.00696866]\n",
            "\n",
            "Test MSE: [0.00111265 0.00106838 0.00104137 0.00106218 0.00107152 0.00106796\n",
            " 0.00107401 0.00106436 0.00126878 0.00178907 0.00182279 0.00196986\n",
            " 0.00194562 0.00186316 0.00187225 0.00184637 0.00177487 0.00173886\n",
            " 0.00171124 0.00183264 0.00182671 0.00193212 0.00166138 0.00174442\n",
            " 0.00179383 0.00166688 0.00151206 0.00144559 0.00148785 0.00148913\n",
            " 0.00163546 0.00169201 0.00167805 0.00149279 0.00151521 0.00151219\n",
            " 0.00151929 0.00142928 0.0014238  0.0013851  0.00139628 0.00143416\n",
            " 0.00145786 0.00158867 0.00207486 0.00184258 0.00201853 0.00197271\n",
            " 0.00188704 0.00192179 0.00176162 0.00174808 0.00174355 0.00176132\n",
            " 0.00177058 0.0016557  0.00156852 0.00158813 0.00162187 0.00143247\n",
            " 0.00151853 0.00126521 0.00131249 0.00128066 0.00147978 0.00156571\n",
            " 0.00158359 0.00159087 0.00154413 0.00160076 0.00148542 0.00155119\n",
            " 0.0017265  0.00172515 0.00159459 0.00194413 0.00146469 0.00144631\n",
            " 0.00143308 0.0014524  0.00159967 0.00150076 0.00163322 0.00151024\n",
            " 0.00151768 0.00144488 0.00147038 0.00151991 0.0014603  0.00138963\n",
            " 0.00149373 0.00162875 0.00177192 0.00140789 0.00135812 0.00143604\n",
            " 0.00146942 0.00147774 0.00148027 0.00144205 0.00160976 0.00142128\n",
            " 0.00151481 0.0015441  0.00163912 0.00162933 0.00178133 0.0014956\n",
            " 0.00150105 0.0014724  0.00170358 0.00183145 0.00194934 0.00207324\n",
            " 0.00192667 0.00180789 0.00197107 0.0020207  0.00233353 0.00237392\n",
            " 0.00201926 0.0019749  0.00192287 0.00191419 0.00198195 0.00204344\n",
            " 0.00214281 0.0021107  0.00217695 0.00217451 0.0023505  0.00189101\n",
            " 0.00204269 0.00219677 0.00186258 0.00184319 0.00186255 0.00192085\n",
            " 0.00208444 0.00175636 0.00167711 0.00140072 0.00132237 0.00130423\n",
            " 0.00164575 0.00151054 0.00142753 0.001502   0.00123043 0.00114676\n",
            " 0.00110602 0.00124856 0.00138905 0.00135368 0.0014752  0.00162946\n",
            " 0.00145219 0.00153786 0.00157024 0.00153638 0.00152044 0.00163099\n",
            " 0.00154298 0.00153004 0.00150336 0.00155107 0.00147483 0.00154024\n",
            " 0.00183413 0.00185182 0.00205356 0.00205849 0.00203911 0.00206497\n",
            " 0.00190006 0.00199632 0.0019736  0.00213038 0.00216927 0.00217048\n",
            " 0.00212576 0.0021305  0.00219517 0.00215853 0.00204538 0.00209192\n",
            " 0.00206001 0.00216355 0.00197068 0.00201738 0.00190025 0.00207621\n",
            " 0.00216146 0.00207967 0.00199559 0.0020269  0.00206465 0.00199909\n",
            " 0.0019914  0.00169383 0.00166203 0.00168755 0.00173453 0.00155418\n",
            " 0.00158511 0.00169684 0.00165277 0.00169113 0.00166634 0.00681145\n",
            " 0.00660136 0.006545   0.00664391 0.0066844  0.0059706  0.00609939\n",
            " 0.00630649 0.0063179  0.00642249 0.00617889 0.00616516 0.0063296\n",
            " 0.00588825 0.00604055 0.00595423 0.00599949 0.00609776 0.0060588\n",
            " 0.00591733 0.00592427 0.00592565 0.00617354 0.00622879 0.00590914\n",
            " 0.00587967 0.00592259 0.0055367  0.00555544 0.0055866  0.00182834\n",
            " 0.0017304  0.00171631 0.0017648  0.00174821 0.00163678 0.00168343\n",
            " 0.00163175 0.00167493 0.00169861 0.00176264 0.00168207 0.00165271\n",
            " 0.00170451 0.00163396 0.00167741 0.00157836 0.00154211 0.00143822\n",
            " 0.0015327  0.00153542 0.00142126 0.00099946 0.00101635 0.00100259\n",
            " 0.00096626 0.00096739 0.0009534  0.00083689 0.00084538 0.00085113\n",
            " 0.00110732 0.00114432 0.00115859 0.00118201 0.00119408 0.0011268\n",
            " 0.00115419 0.0011534  0.00112682 0.00111278 0.00115121 0.00117034\n",
            " 0.00111287 0.00108145 0.00126706 0.00125598 0.00132145 0.0015079\n",
            " 0.00155799 0.00154475 0.00150756 0.00156293 0.00157153 0.00177765\n",
            " 0.00191759 0.00190291 0.0018305  0.00181499 0.0018032  0.00189096\n",
            " 0.00161701 0.00162442 0.00167655 0.00177377 0.00181468 0.00173712\n",
            " 0.0017052  0.00170765 0.00172826 0.00155467 0.00141186 0.00145704\n",
            " 0.00143127 0.0015805  0.00142268 0.00145109 0.00171769 0.00183255\n",
            " 0.00182868 0.00181109 0.00167565 0.0016279  0.00176204 0.00179745\n",
            " 0.00166954 0.00149439 0.00153677 0.00150063 0.00146258 0.00135263\n",
            " 0.00122944 0.0010727  0.00122608 0.00120922 0.00118161 0.00127515\n",
            " 0.00129988 0.00132623 0.00140588 0.00145767 0.00147743 0.00145672\n",
            " 0.00148157 0.00142931 0.00126734 0.00134906 0.00127289 0.00131679\n",
            " 0.00129054 0.00128357 0.00156341 0.00150505 0.00151016 0.00148999\n",
            " 0.00147261 0.00155175 0.00151725 0.00169249 0.00172961 0.00172209\n",
            " 0.00148901 0.00143023 0.00138865 0.00129164 0.00130346 0.00153591\n",
            " 0.0014871  0.00131169 0.00150726 0.00148039 0.00144225 0.00141637\n",
            " 0.00136421 0.00135312 0.00139801 0.00148161 0.00145104 0.00134161\n",
            " 0.00133579 0.00135541 0.00136561 0.00136618 0.00134926 0.00137027\n",
            " 0.0011696  0.00119748 0.00106953 0.00110685 0.00109182 0.00125553\n",
            " 0.00121236 0.00124279 0.00135734 0.00120336 0.00116176 0.00128277\n",
            " 0.00103873 0.00094069 0.00107983 0.00112959 0.00117674 0.00116696\n",
            " 0.00112778 0.00115044 0.00129854 0.00127091 0.0013032  0.00140496\n",
            " 0.00149612 0.00164868 0.00171754 0.00148324 0.001556   0.00158071\n",
            " 0.00157293 0.00182242 0.00186589 0.00185191 0.00174992 0.0019077\n",
            " 0.00197501 0.00183188 0.00187738 0.00193048 0.00187293 0.00199045\n",
            " 0.00203113 0.00149572 0.00142539 0.00148509 0.00157874 0.00151673\n",
            " 0.00213172 0.00187984 0.00202892 0.00200558 0.00220493 0.00209165\n",
            " 0.00165854 0.00165253 0.00174683 0.00161295 0.00163159 0.00183836\n",
            " 0.00168194 0.0016384  0.00159153 0.0021473  0.0022639  0.00198186\n",
            " 0.00207623 0.00199332 0.00199865 0.00208324 0.00230144 0.00237494\n",
            " 0.00241624 0.00231984 0.00230144 0.00223866 0.00216842 0.00230546\n",
            " 0.00191779 0.0017783  0.00167801 0.0016266  0.00164179 0.00168319\n",
            " 0.00163759 0.00163043 0.00207154 0.00207132 0.00201182 0.00171479\n",
            " 0.00176457 0.00202437 0.00220581 0.00189156 0.00216354 0.00221158\n",
            " 0.00219807 0.00225098]\n"
          ]
        }
      ]
    },
    {
      "cell_type": "code",
      "source": [
        "threshold = np.percentile(train_loss, 80)\n",
        "print(f\"Anomaly Detection Threshold: \",threshold)"
      ],
      "metadata": {
        "colab": {
          "base_uri": "https://localhost:8080/"
        },
        "id": "lKE90QpBWpxd",
        "outputId": "3811c8b9-9da4-4477-85cf-9a3e1057b7b0"
      },
      "execution_count": 243,
      "outputs": [
        {
          "output_type": "stream",
          "name": "stdout",
          "text": [
            "Anomaly Detection Threshold:  0.0022733239135691247\n"
          ]
        }
      ]
    },
    {
      "cell_type": "code",
      "source": [
        "anomalies = test_loss > threshold\n",
        "\n",
        "test_dates = data['date'][-len(test_data):].reset_index(drop=True)\n",
        "valid_test_dates = test_dates[sequence_length:]\n",
        "anomalous_dates = valid_test_dates[anomalies]"
      ],
      "metadata": {
        "id": "uah2GkReWjoe"
      },
      "execution_count": 244,
      "outputs": []
    },
    {
      "cell_type": "code",
      "source": [
        "plt.figure(figsize=(8, 5))\n",
        "plt.hist(test_loss, bins=50, alpha=0.75, label='Test Reconstruction Errors')\n",
        "plt.axvline(threshold, color='red', linestyle='--', label='Threshold')\n",
        "plt.title('Reconstruction Errors')\n",
        "plt.xlabel('Error')\n",
        "plt.ylabel('Frequency')\n",
        "plt.legend()\n",
        "plt.show()"
      ],
      "metadata": {
        "colab": {
          "base_uri": "https://localhost:8080/",
          "height": 487
        },
        "id": "f6jHEyWjXL38",
        "outputId": "1bbe87e5-8c33-4c4a-f96d-a191c994a0f4"
      },
      "execution_count": 245,
      "outputs": [
        {
          "output_type": "display_data",
          "data": {
            "text/plain": [
              "<Figure size 800x500 with 1 Axes>"
            ],
            "image/png": "[encoded data removed]"
          },
          "metadata": {}
        }
      ]
    },
    {
      "cell_type": "code",
      "source": [
        "plt.figure(figsize=(15, 6))\n",
        "plt.plot(data['date'], scaler.inverse_transform(data['temperature'].values.reshape(-1, 1)), label='Temperature')\n",
        "\n",
        "# Checking if anomalies contains any True values and sequence_length is valid\n",
        "if np.any(anomalies) and sequence_length < len(test_data):\n",
        "    # Checking if slicing operation results in empty array\n",
        "    anomalous_data = test_data[sequence_length:][anomalies]\n",
        "\n",
        "    if anomalous_data.size > 0:\n",
        "        plt.scatter(anomalous_dates, scaler.inverse_transform(anomalous_data.reshape(-1, 1)),\n",
        "                    color='red', label='Anomalies')\n",
        "    else:\n",
        "        print(\"Warning: Slicing operation resulted in an empty array. No anomalies to plot.\")\n",
        "else:\n",
        "    print(\"Warning: No anomalies detected or invalid sequence_length.\")\n",
        "\n",
        "plt.title(\"Temperature Data with Anomalies\")\n",
        "plt.xlabel(\"Date\")\n",
        "plt.ylabel(\"Temperature\")\n",
        "plt.legend()\n",
        "plt.show()"
      ],
      "metadata": {
        "colab": {
          "base_uri": "https://localhost:8080/",
          "height": 564
        },
        "id": "jdmslbl3XJAZ",
        "outputId": "2cec5597-fabd-4818-8971-4c00f8f6b560"
      },
      "execution_count": 246,
      "outputs": [
        {
          "output_type": "display_data",
          "data": {
            "text/plain": [
              "<Figure size 1500x600 with 1 Axes>"
            ],
            "image/png": "[encoded data removed]"
          },
          "metadata": {}
        }
      ]
    }
  ]
}